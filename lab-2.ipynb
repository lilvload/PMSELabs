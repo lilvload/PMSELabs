{
 "cells": [
  {
   "cell_type": "markdown",
   "id": "7bb482d1-8eb4-423a-bff9-3efbbfcaf1eb",
   "metadata": {},
   "source": [
    "**Імпорт бібліотек**"
   ]
  },
  {
   "cell_type": "code",
   "execution_count": 6,
   "id": "b2778459-21ee-4277-81e3-149d814dd8e1",
   "metadata": {},
   "outputs": [],
   "source": [
    "import pandas as pd\n",
    "import matplotlib.pyplot as plt\n",
    "import scipy.stats as sp"
   ]
  },
  {
   "cell_type": "markdown",
   "id": "ad053447-da58-4443-a1c0-8b2d50e20082",
   "metadata": {},
   "source": [
    "**Рівень значущості для статистичних критеріїв**"
   ]
  },
  {
   "cell_type": "code",
   "execution_count": 7,
   "id": "2e4aff31-cc7c-4cd3-9f10-d5d27fc3ac60",
   "metadata": {},
   "outputs": [],
   "source": [
    "ALPHA = 0.05"
   ]
  },
  {
   "cell_type": "markdown",
   "id": "8c62ed04-48fe-48f9-b11e-39d78df897ee",
   "metadata": {},
   "source": [
    "**Перевірка нормальності розподілу за критерієм Пірсона** \n",
    "\n",
    "*Розраховує теоретичні ймовірності, порівнює їх із емпіричними частотами та обчислює χ2*\n",
    "\n",
    "*Повертає таблиці і результат перевірки гіпотези*"
   ]
  },
  {
   "cell_type": "code",
   "execution_count": 8,
   "id": "011e9d02-8f79-443a-9021-45f5cb5b61d9",
   "metadata": {},
   "outputs": [],
   "source": [
    "def normality_check_pearson(data):\n",
    "    borders = data[\"borders\"]\n",
    "    frequencies = data[\"frequencies\"]\n",
    "    dist_len = sum(frequencies)\n",
    "    mean = calc_mean(data)\n",
    "    std_dev = calc_std_dev(data)\n",
    "    prob_table = []\n",
    "    chi2_table = []\n",
    "    total_theor_prob = 0\n",
    "    total_chi2 = 0\n",
    "\n",
    "    for idx in range(len(frequencies)):\n",
    "        left = float(\"-inf\") if idx == 0 else borders[idx]\n",
    "        right = float(\"inf\") if idx == len(frequencies) - 1 else borders[idx + 1]\n",
    "\n",
    "        z_l = (left - mean) / std_dev\n",
    "        z_r = (right - mean) / std_dev\n",
    "        phi_l = laplace(z_l)\n",
    "        phi_r = laplace(z_r)\n",
    "        prob = phi_r - phi_l\n",
    "        prob_table.append([left, right, z_l, z_r, phi_l, phi_r, prob])\n",
    "        total_theor_prob += prob\n",
    "\n",
    "    prob_table.append([\"\", \"\", \"\", \"\", \"\", \"\", total_theor_prob])\n",
    "\n",
    "    for idx, freq in enumerate(frequencies):\n",
    "        theor_freq = dist_len * prob_table[idx][6]\n",
    "        diff = freq - theor_freq\n",
    "        chi2_contrib = (diff ** 2) / theor_freq\n",
    "        total_chi2 += chi2_contrib\n",
    "\n",
    "        chi2_table.append([freq, theor_freq, diff, diff ** 2, chi2_contrib])\n",
    "\n",
    "    chi2_table.append([dist_len, \"\", \"\", \"\", total_chi2])\n",
    "    crit = chi2_crit(ALPHA, len(frequencies) - 1 - 2)\n",
    "\n",
    "    return {\n",
    "    \"prob_table\": prob_table,\n",
    "    \"chi2_table\": chi2_table,\n",
    "    \"chi2_emp\": total_chi2,\n",
    "    \"chi2_crit\": crit,\n",
    "    \"is_normal\": total_chi2 < crit\n",
    "    }"
   ]
  },
  {
   "cell_type": "markdown",
   "id": "dad5eb50-40ba-48ac-8988-de5fbb8c71c9",
   "metadata": {},
   "source": [
    "**Перевірка нормальності розподілу за критерієм Колмогорова**\n",
    "\n",
    "*Розраховує емпіричну та теоретичну функції розподілу, порівнює їх відхилення*\n",
    "\n",
    "*Повертає таблицю і значення λ, D та критичні значення*"
   ]
  },
  {
   "cell_type": "code",
   "execution_count": 9,
   "id": "4dcd93c0-5c63-4d67-97df-3303c7a4d73a",
   "metadata": {},
   "outputs": [],
   "source": [
    "def normality_check_kolmogorov(data):\n",
    "    borders = data[\"borders\"]\n",
    "    freqs = data[\"frequencies\"]\n",
    "    total = sum(freqs)\n",
    "    mean = calc_mean(data)\n",
    "    std = calc_std_dev(data)\n",
    "\n",
    "    extended = {\n",
    "        \"borders\": [float(\"-inf\")] + borders + [float(\"inf\")],\n",
    "        \"frequencies\": [0] + freqs + [0]\n",
    "    }\n",
    "\n",
    "    borders = extended[\"borders\"]\n",
    "    freqs = extended[\"frequencies\"]\n",
    "    count_table = []\n",
    "    accum_freq = 0\n",
    "    max_diff = 0\n",
    "\n",
    "    for i in range(1, len(freqs)):\n",
    "        accum_freq += freqs[i] / total\n",
    "        z = (borders[i + 1] - mean) / std\n",
    "        theor = sp.norm.cdf(z)\n",
    "        diff = abs(theor - accum_freq)\n",
    "        max_diff = max(max_diff, diff)\n",
    "\n",
    "        count_table.append([\n",
    "            borders[i], borders[i + 1], freqs[i], accum_freq,\n",
    "            z, theor, diff\n",
    "        ])\n",
    "\n",
    "    lam_emp = max_diff * (total ** 0.5)\n",
    "    return {\n",
    "    \"kolm_table\": count_table,\n",
    "    \"max_diff\": max_diff,\n",
    "    \"lambda_emp\": lam_emp,\n",
    "    \"lambda_crit\": lambda_crit(ALPHA),\n",
    "    \"kolmog_crit\": kolmogorov_crit(ALPHA, total),\n",
    "    \"beta_crit\": prob_from_lambda(lam_emp)\n",
    "    }"
   ]
  },
  {
   "cell_type": "markdown",
   "id": "bad0294b-ceb9-4a7e-aeae-1e0aa7485621",
   "metadata": {},
   "source": [
    "**Розрахунок математичного сподівання за формулою для інтервального ряду**"
   ]
  },
  {
   "cell_type": "code",
   "execution_count": 10,
   "id": "40afbb0c-2628-45de-9c6d-31878e824b92",
   "metadata": {},
   "outputs": [],
   "source": [
    "def calc_mean(data):\n",
    "    borders = data[\"borders\"]\n",
    "    freqs = data[\"frequencies\"]\n",
    "    total = sum(freqs)\n",
    "    return sum((borders[i] + borders[i+1]) / 2 * freqs[i] for i in range(len(freqs))) / total"
   ]
  },
  {
   "cell_type": "markdown",
   "id": "50c49c75-2071-475d-9e7d-0dfa582597bc",
   "metadata": {},
   "source": [
    "**Розрахунок середньоквадратичного відхилення за формулою для інтервального ряду**"
   ]
  },
  {
   "cell_type": "code",
   "execution_count": 11,
   "id": "6cdcdebb-2412-45dd-90d9-7dadf4b7fe18",
   "metadata": {},
   "outputs": [],
   "source": [
    "def calc_std_dev(data):\n",
    "    mean = calc_mean(data)\n",
    "    borders = data[\"borders\"]\n",
    "    freqs = data[\"frequencies\"]\n",
    "    total = sum(freqs)\n",
    "    variance = sum(((borders[i] + borders[i+1]) / 2 - mean) ** 2 * freqs[i] for i in range(len(freqs)))\n",
    "    return (variance / (total - 1 if total <= 30 else total)) ** 0.5"
   ]
  },
  {
   "cell_type": "markdown",
   "id": "250051a9-74f6-4d1e-8b74-ec35c9ee3a65",
   "metadata": {},
   "source": [
    "**Обчислення значення функції Лапласа (центрованої) через стандартну нормальну функцію розподілу**"
   ]
  },
  {
   "cell_type": "code",
   "execution_count": 12,
   "id": "25b3d9a0-defd-4270-b304-74767f0cd95b",
   "metadata": {},
   "outputs": [],
   "source": [
    "def laplace(x):\n",
    "    return sp.norm.cdf(x) - 0.5"
   ]
  },
  {
   "cell_type": "markdown",
   "id": "30e3d3ec-69a7-4dbe-b28a-4c397b21b7a5",
   "metadata": {},
   "source": [
    "**Критичне значення χ2 для заданого рівня значущості та ступенів свободи**"
   ]
  },
  {
   "cell_type": "code",
   "execution_count": 13,
   "id": "6625d476-cff0-44f5-8928-87af142e32d9",
   "metadata": {},
   "outputs": [],
   "source": [
    "def chi2_crit(alpha, k):\n",
    "    return sp.chi2.ppf(1 - alpha, k)"
   ]
  },
  {
   "cell_type": "markdown",
   "id": "3c4838b1-6754-44b8-8ffc-6bd32457f2c3",
   "metadata": {},
   "source": [
    "**Критичне значення λ для Колмогорова**"
   ]
  },
  {
   "cell_type": "code",
   "execution_count": 14,
   "id": "3ba3ca1d-efb0-4758-9019-53e94aa51654",
   "metadata": {},
   "outputs": [],
   "source": [
    "def lambda_crit(alpha):\n",
    "    return sp.kstwobign.ppf(1 - alpha)"
   ]
  },
  {
   "cell_type": "markdown",
   "id": "562a9161-95e7-4b08-926c-3a7c26a3bda3",
   "metadata": {},
   "source": [
    "**Критичне значення для Колмогорова, точне**"
   ]
  },
  {
   "cell_type": "code",
   "execution_count": 15,
   "id": "c452adc8-0d15-4c5b-88d1-e9a04fc533a2",
   "metadata": {},
   "outputs": [],
   "source": [
    "def kolmogorov_crit(alpha, n):\n",
    "    return sp.kstwo.ppf(1 - alpha, n)"
   ]
  },
  {
   "cell_type": "markdown",
   "id": "2ecf2d76-e95b-417d-9181-3c40e5ef9b88",
   "metadata": {},
   "source": [
    "**Ймовірність отримати значення > λ (p-value)**"
   ]
  },
  {
   "cell_type": "code",
   "execution_count": 16,
   "id": "4e32cfd5-b68c-44a0-8708-dd735f9ef8d1",
   "metadata": {},
   "outputs": [],
   "source": [
    "def prob_from_lambda(l):\n",
    "    return 1 - sp.kstwobign.cdf(l)"
   ]
  },
  {
   "cell_type": "markdown",
   "id": "c4d54f05-ef3a-4caf-8d56-d28a08942e89",
   "metadata": {},
   "source": [
    "**Форматування числових значень**"
   ]
  },
  {
   "cell_type": "code",
   "execution_count": 17,
   "id": "d3401200-0169-4857-98bb-327da5143cf1",
   "metadata": {},
   "outputs": [],
   "source": [
    "def format_val(v):\n",
    "    return round(v, 6) if v != \"\" else \"\""
   ]
  },
  {
   "cell_type": "markdown",
   "id": "fb591245-d338-4f3d-83ef-677c3decd082",
   "metadata": {},
   "source": [
    "**Виведення всіх таблиць та результатів критеріїв**"
   ]
  },
  {
   "cell_type": "code",
   "execution_count": 18,
   "id": "46074c8b-ab83-45bb-ad5e-c267c375dd5e",
   "metadata": {},
   "outputs": [],
   "source": [
    "def display_results(data):\n",
    "    res_pearson = normality_check_pearson(data)\n",
    "    res_kolm = normality_check_kolmogorov(data)\n",
    "\n",
    "    print(\"\\n-- КРИТЕРІЙ ПІРСОНА --\")\n",
    "    df1 = pd.DataFrame([\n",
    "        [\"Σ\" if i == len(res_pearson[\"prob_table\"]) - 1 else i + 1] + [format_val(v) for v in row]\n",
    "        for i, row in enumerate(res_pearson[\"prob_table\"])\n",
    "    ], columns=[\"#\", \"Xi\", \"Xi+1\", \"Zi\", \"Zi+1\", \"Φ(Zi)\", \"Φ(Zi+1)\", \"P\"])\n",
    "    print(df1.to_string(index=False))\n",
    "    print(\"Сума = 1, отже розподіл правильний\")\n",
    "\n",
    "    df2 = pd.DataFrame([\n",
    "        [\"Σ\" if i == len(res_pearson[\"chi2_table\"]) - 1 else i + 1] + [format_val(v) for v in row]\n",
    "        for i, row in enumerate(res_pearson[\"chi2_table\"])\n",
    "    ], columns=[\"#\", \"ni\", \"n`i\", \"Δ\", \"Δ^2\", \"Δ^2/n`i\"])\n",
    "    print(df2.to_string(index=False))\n",
    "\n",
    "    print(f\"\\nX2_сп = {res_pearson['chi2_emp']:.5f}, X2_кр = {res_pearson['chi2_crit']:.5f} → Гіпотеза про нормальний розподіл {'приймається'\n",
    "    if res_pearson['is_normal'] else 'відхиляється'}\")\n",
    "\n",
    "    print(\"\\n-- КРИТЕРІЙ КОЛМОГОРОВА --\")\n",
    "    df3 = pd.DataFrame([\n",
    "        [i + 1] + [format_val(v) for v in row]\n",
    "        for i, row in enumerate(res_kolm[\"kolm_table\"])\n",
    "    ], columns=[\"#\", \"Xi\", \"Xi+1\", \"ni\", \"F*\", \"(X - μ)/σ\", \"F(x)\", \"|F* - F(x)|\"])\n",
    "    print(df3.to_string(index=False))\n",
    "\n",
    "    print( f\"\\nλ_сп = {res_kolm['lambda_emp']:.5f}, λ_кр = {res_kolm['lambda_crit']:.5f}, D* = {res_kolm['max_diff']:.5f}, K_кр = {res_kolm['kolmog_crit']:.5f}, β_кр = {res_kolm['beta_crit']:.5f}\")\n",
    "    print(f\"→ Гіпотеза {'приймається' if res_kolm['lambda_emp'] < res_kolm['lambda_crit'] else 'відхиляється'} за λ\")\n",
    "    print(f\"→ Гіпотеза {'приймається' if res_kolm['max_diff'] < res_kolm['kolmog_crit'] else 'відхиляється'} за D\")\n",
    "    print(f\"→ Гіпотеза {'приймається' if res_kolm['beta_crit'] > 0.05 else 'відхиляється'} за β\")\n",
    "\n",
    "    show_hist(data)"
   ]
  },
  {
   "cell_type": "markdown",
   "id": "d032497b-74b1-4e21-851c-86d0b7f62359",
   "metadata": {},
   "source": [
    "**Візуалізація гістограми частот**"
   ]
  },
  {
   "cell_type": "code",
   "execution_count": 19,
   "id": "b153879b-912d-4f78-9def-daca08ea7f5b",
   "metadata": {},
   "outputs": [],
   "source": [
    "def show_hist(data):\n",
    "    borders = data[\"borders\"]\n",
    "    freqs = data[\"frequencies\"]\n",
    "    heights = [freq / (borders[i+1] - borders[i]) for i, freq in enumerate(freqs)]\n",
    "    centers = [(borders[i] + borders[i+1]) / 2 for i in range(len(freqs))]\n",
    "\n",
    "    plt.figure(figsize=(10, 6))\n",
    "    plt.title(\"Гістограма інтервального ряду\")\n",
    "    plt.xlabel(\"X\")\n",
    "    plt.ylabel(\"Щільність\")\n",
    "\n",
    "    for i in range(len(freqs)):\n",
    "        plt.bar(\n",
    "            x=centers[i],\n",
    "            height=heights[i],\n",
    "            width=(borders[i + 1] - borders[i]),\n",
    "            align='center', edgecolor='black', color='skyblue'\n",
    "        )\n",
    "\n",
    "    # Додаткова лінія через центри інтервалів\n",
    "    plt.plot(centers, heights, marker='o', linestyle='-', color='red', label='Полігон частот')\n",
    "    plt.legend()\n",
    "    plt.tight_layout()\n",
    "    plt.show()"
   ]
  },
  {
   "cell_type": "markdown",
   "id": "cdf85146-7f94-462c-81c5-5c6077379305",
   "metadata": {},
   "source": [
    "**Ініціалізація даних**"
   ]
  },
  {
   "cell_type": "code",
   "execution_count": 20,
   "id": "650b1d71-fdfa-40c7-a41d-46f935a8c01b",
   "metadata": {},
   "outputs": [],
   "source": [
    "intStatDist = {\n",
    "    \"borders\": [1, 2, 3, 4, 5, 6, 7, 8, 9],\n",
    "    \"frequencies\": [10, 8, 7, 10, 22, 18, 14, 11],\n",
    "}"
   ]
  },
  {
   "cell_type": "markdown",
   "id": "b62a6022-b87c-49a6-a082-a448965373a0",
   "metadata": {},
   "source": [
    "**Вивід результатів**"
   ]
  },
  {
   "cell_type": "code",
   "execution_count": 21,
   "id": "8389b17a-f9bf-481a-ae79-553ce5016b32",
   "metadata": {},
   "outputs": [
    {
     "name": "stdout",
     "output_type": "stream",
     "text": [
      "\n",
      "-- КРИТЕРІЙ ПІРСОНА --\n",
      "#   Xi Xi+1        Zi      Zi+1     Φ(Zi)   Φ(Zi+1)        P\n",
      "1 -inf    2      -inf -1.621623      -0.5 -0.447558 0.052442\n",
      "2    2    3 -1.621623 -1.146074 -0.447558 -0.374118 0.073440\n",
      "3    3    4 -1.146074 -0.670525 -0.374118 -0.248738 0.125379\n",
      "4    4    5 -0.670525 -0.194975 -0.248738 -0.077294 0.171444\n",
      "5    5    6 -0.194975  0.280574 -0.077294  0.110481 0.187775\n",
      "6    6    7  0.280574  0.756123  0.110481  0.275212 0.164731\n",
      "7    7    8  0.756123  1.231673  0.275212  0.390964 0.115752\n",
      "8    8  inf  1.231673       inf  0.390964       0.5 0.109036\n",
      "Σ                                                   1.000000\n",
      "Сума = 1, отже розподіл правильний\n",
      "#  ni        n`i         Δ        Δ^2   Δ^2/n`i\n",
      "1  10   5.244204  4.755796  22.617598  4.312876\n",
      "2   8   7.344027  0.655973     0.4303  0.058592\n",
      "3   7  12.537944 -5.537944   30.66882  2.446081\n",
      "4  10  17.144443 -7.144443  51.043068  2.977237\n",
      "5  22  18.777527  3.222473  10.384329  0.553019\n",
      "6  18  16.473093  1.526907   2.331444  0.141530\n",
      "7  14  11.575192  2.424808   5.879693  0.507956\n",
      "8  11  10.903569  0.096431   0.009299  0.000853\n",
      "Σ 100                                 10.998143\n",
      "\n",
      "X2_сп = 10.99814, X2_кр = 11.07050 → Гіпотеза про нормальний розподіл приймається\n",
      "\n",
      "-- КРИТЕРІЙ КОЛМОГОРОВА --\n",
      " #  Xi  Xi+1  ni   F*  (X - μ)/σ     F(x)  |F* - F(x)|\n",
      " 1   1   2.0  10 0.10  -1.621623 0.052442     0.047558\n",
      " 2   2   3.0   8 0.18  -1.146074 0.125882     0.054118\n",
      " 3   3   4.0   7 0.25  -0.670525 0.251262     0.001262\n",
      " 4   4   5.0  10 0.35  -0.194975 0.422706     0.072706\n",
      " 5   5   6.0  22 0.57   0.280574 0.610481     0.040481\n",
      " 6   6   7.0  18 0.75   0.756123 0.775212     0.025212\n",
      " 7   7   8.0  14 0.89   1.231673 0.890964     0.000964\n",
      " 8   8   9.0  11 1.00   1.707222 0.956110     0.043890\n",
      " 9   9   inf   0 1.00        inf 1.000000     0.000000\n",
      "\n",
      "λ_сп = 0.72706, λ_кр = 1.35810, D* = 0.07271, K_кр = 0.13403, β_кр = 0.66584\n",
      "→ Гіпотеза приймається за λ\n",
      "→ Гіпотеза приймається за D\n",
      "→ Гіпотеза приймається за β\n"
     ]
    },
    {
     "data": {
      "image/png": "[encoded data removed]",
      "text/plain": [
       "<Figure size 1000x600 with 1 Axes>"
      ]
     },
     "metadata": {},
     "output_type": "display_data"
    }
   ],
   "source": [
    "display_results(intStatDist)"
   ]
  },
  {
   "cell_type": "code",
   "execution_count": null,
   "id": "16e434b1-491e-4f94-a147-28d375514733",
   "metadata": {},
   "outputs": [],
   "source": []
  }
 ],
 "metadata": {
  "kernelspec": {
   "display_name": "Python 3 (ipykernel)",
   "language": "python",
   "name": "python3"
  },
  "language_info": {
   "codemirror_mode": {
    "name": "ipython",
    "version": 3
   },
   "file_extension": ".py",
   "mimetype": "text/x-python",
   "name": "python",
   "nbconvert_exporter": "python",
   "pygments_lexer": "ipython3",
   "version": "3.12.7"
  }
 },
 "nbformat": 4,
 "nbformat_minor": 5
}
