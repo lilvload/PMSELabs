{
 "cells": [
  {
   "cell_type": "markdown",
   "id": "b234f9f2-8356-4b0b-8e0c-e11283a42463",
   "metadata": {},
   "source": [
    "#### Імпорт бібліотек"
   ]
  },
  {
   "cell_type": "code",
   "execution_count": 17,
   "id": "d4db2e84-8dc6-4b1b-86d7-47ea9dfe16e6",
   "metadata": {},
   "outputs": [],
   "source": [
    "import numpy as np\n",
    "import pandas as pd\n",
    "import statsmodels.api as sm\n",
    "from scipy import stats\n",
    "from sklearn.metrics import r2_score"
   ]
  },
  {
   "cell_type": "markdown",
   "id": "990ece68-5071-464d-9891-fdcb0690087e",
   "metadata": {},
   "source": [
    "#### Дані за варіантом"
   ]
  },
  {
   "cell_type": "code",
   "execution_count": 2,
   "id": "2a16e0d0-c9dc-4bc6-a566-28251466d95c",
   "metadata": {},
   "outputs": [],
   "source": [
    "data = {\n",
    "    'Y': [14.85, 11.94, 8.03, 7.11, 9.50, 9.40, 11.60, 8.14, 15.62, 11.12, 7.34, 10.58, 7.37, 10.63, 10.63],\n",
    "    'X1': [60, 48, 39, 28, 45, 37, 58, 27, 58, 47, 38, 44, 23, 57, 38],\n",
    "    'X2': [30, 19, 8, 18, 9, 23, 15, 17, 28, 16, 7, 15, 25, 8, 24],\n",
    "    'X3': [0.15, 0.02, 0.14, 0.11, 0.12, 0.10, 0.13, 0.09, 0.07, 0.12, 0.08, 0.11, 0.15, 0.13, 0.07],\n",
    "    'X4': [5.0, 3.1, 4.7, 2.5, 4.9, 2.6, 4.6, 3.4, 4.8, 4.9, 3.2, 4.7, 2.7, 5.0, 2.9]\n",
    "}\n",
    "df = pd.DataFrame(data)"
   ]
  },
  {
   "cell_type": "markdown",
   "id": "fb2397dc-85ae-4ffe-87ca-c1ca4ed67762",
   "metadata": {},
   "source": [
    "#### 1. Визначення статистичних оцінок параметрів лінійної множинної регресії"
   ]
  },
  {
   "cell_type": "code",
   "execution_count": 5,
   "id": "2b2b64eb-ee37-4b82-a4b6-5f08067f42df",
   "metadata": {},
   "outputs": [
    {
     "name": "stdout",
     "output_type": "stream",
     "text": [
      "B0* = -0.0002\n",
      "B1* = 0.1113\n",
      "B2* = 0.1983\n",
      "B3* = -19.7984\n",
      "B4* = 1.0403\n",
      "\n",
      "Отримане рівняння регресії:\n",
      "Y = -0.0002 + 0.1113*X1 + 0.1983*X2 + -19.7984*X3 + 1.0403*X4\n",
      "\n"
     ]
    }
   ],
   "source": [
    "Y = df['Y']\n",
    "X = df[['X1', 'X2', 'X3', 'X4']]\n",
    "X = sm.add_constant(X) # Додаємо константу для B0\n",
    "X_array = X.values # Перетворюємо DataFrame X на NumPy array\n",
    "feature_names = ['X1', 'X2', 'X3', 'X4']\n",
    "\n",
    "model = sm.OLS(Y, X).fit()\n",
    "beta_hat = model.params\n",
    "\n",
    "print(f\"B0* = {beta_hat['const']:.4f}\")\n",
    "print(f\"B1* = {beta_hat['X1']:.4f}\")\n",
    "print(f\"B2* = {beta_hat['X2']:.4f}\")\n",
    "print(f\"B3* = {beta_hat['X3']:.4f}\")\n",
    "print(f\"B4* = {beta_hat['X4']:.4f}\\n\")\n",
    "\n",
    "print(\"Отримане рівняння регресії:\")\n",
    "print(f\"Y = {beta_hat['const']:.4f} + {beta_hat['X1']:.4f}*X1 + {beta_hat['X2']:.4f}*X2 + {beta_hat['X3']:.4f}*X3 + {beta_hat['X4']:.4f}*X4\\n\")"
   ]
  },
  {
   "cell_type": "markdown",
   "id": "1f423868-d033-4ddd-89a9-1194e47dc8e0",
   "metadata": {
    "jp-MarkdownHeadingCollapsed": true
   },
   "source": [
    "#### 2. Побудова довірчого інтервалу для функції регресії з надійністю γ = 0,99"
   ]
  },
  {
   "cell_type": "code",
   "execution_count": 16,
   "id": "38192bcd-b9c3-4b08-beb8-c25425594715",
   "metadata": {},
   "outputs": [
    {
     "name": "stdout",
     "output_type": "stream",
     "text": [
      "Довірчий інтервал для функції регресії (γ = 0.99):\n",
      "\n",
      "Для спостереження 1 (вектор ознак: [X1=60.00, X2=30.00, X3=0.15, X4=5.00]): [14.7914, 14.9259]\n",
      "Для спостереження 2 (вектор ознак: [X1=48.00, X2=19.00, X3=0.02, X4=3.10]): [11.8729, 12.0045]\n",
      "Для спостереження 3 (вектор ознак: [X1=39.00, X2=8.00, X3=0.14, X4=4.70]): [7.9956, 8.0928]\n",
      "Для спостереження 4 (вектор ознак: [X1=28.00, X2=18.00, X3=0.11, X4=2.50]): [7.0627, 7.1548]\n",
      "Для спостереження 5 (вектор ознак: [X1=45.00, X2=9.00, X3=0.12, X4=4.90]): [9.4712, 9.5574]\n",
      "Для спостереження 6 (вектор ознак: [X1=37.00, X2=23.00, X3=0.10, X4=2.60]): [9.3562, 9.4517]\n",
      "Для спостереження 7 (вектор ознак: [X1=58.00, X2=15.00, X3=0.13, X4=4.60]): [11.5877, 11.6940]\n",
      "Для спостереження 8 (вектор ознак: [X1=27.00, X2=17.00, X3=0.09, X4=3.40]): [8.0775, 8.1853]\n",
      "Для спостереження 9 (вектор ознак: [X1=58.00, X2=28.00, X3=0.07, X4=4.80]): [15.5516, 15.6788]\n",
      "Для спостереження 10 (вектор ознак: [X1=47.00, X2=16.00, X3=0.12, X4=4.90]): [11.0875, 11.1629]\n",
      "Для спостереження 11 (вектор ознак: [X1=38.00, X2=7.00, X3=0.08, X4=3.20]): [7.3086, 7.4154]\n",
      "Для спостереження 12 (вектор ознак: [X1=44.00, X2=15.00, X3=0.11, X4=4.70]): [10.5441, 10.6218]\n",
      "Для спостереження 13 (вектор ознак: [X1=23.00, X2=25.00, X3=0.15, X4=2.70]): [7.2921, 7.4216]\n",
      "Для спостереження 14 (вектор ознак: [X1=57.00, X2=8.00, X3=0.13, X4=5.00]): [10.5027, 10.6121]\n",
      "Для спостереження 15 (вектор ознак: [X1=38.00, X2=24.00, X3=0.07, X4=2.90]): [10.5784, 10.6608]\n",
      "\n",
      "\n"
     ]
    }
   ],
   "source": [
    "alpha = 1 - 0.99\n",
    "n = len(Y)\n",
    "p = X_array.shape[1] # Кількість параметрів (включаючи константу)\n",
    "degrees_of_freedom = n - p\n",
    "t_critical = stats.t.ppf(1 - alpha / 2, degrees_of_freedom)\n",
    "\n",
    "# Прогнозування значень Y\n",
    "y_predicted = model.predict(X)\n",
    "\n",
    "# Розрахунок середньоквадратичної помилки (MSE)\n",
    "mse = model.mse_resid\n",
    "\n",
    "# Розрахунок стандартних помилок прогнозованих значень\n",
    "pred_var = mse * np.diag(X_array @ np.linalg.inv(X_array.T @ X_array) @X_array.T)\n",
    "pred_se = np.sqrt(pred_var)\n",
    "\n",
    "# Розрахунок меж довірчого інтервалу\n",
    "confidence_interval_lower = y_predicted - t_critical * pred_se\n",
    "confidence_interval_upper = y_predicted + t_critical * pred_se\n",
    "\n",
    "print(\"Довірчий інтервал для функції регресії (γ = 0.99):\\n\")\n",
    "for i in range(n):\n",
    "    features = [f\"{feature_names[j]}={df.iloc[i][feature_names[j]]:.2f}\" for j in range(len(feature_names))]\n",
    "    features_str = \", \".join(features)\n",
    "    print(f\"Для спостереження {i+1} (вектор ознак: [{features_str}]): [{confidence_interval_lower[i]:.4f}, \"\n",
    "          f\"{confidence_interval_upper[i]:.4f}]\")\n",
    "print(\"\\n\")"
   ]
  },
  {
   "cell_type": "markdown",
   "id": "f648ea50-72c3-4403-86e5-f62c535efddf",
   "metadata": {},
   "source": [
    "#### 3. Обчислення коефіцієнта множинної кореляції"
   ]
  },
  {
   "cell_type": "code",
   "execution_count": 20,
   "id": "0e056031-3cb9-45cf-9546-fb7a0c382d0f",
   "metadata": {},
   "outputs": [
    {
     "name": "stdout",
     "output_type": "stream",
     "text": [
      "Коефіцієнт множинної кореляції R = 1.0000\n",
      "\n",
      "Коефіцієнт детермінації R2 = 0.9999103761748839\n"
     ]
    }
   ],
   "source": [
    "r = np.sqrt(r2_score(Y, y_predicted))\n",
    "print(f\"Коефіцієнт множинної кореляції R = {r:.4f}\\n\")\n",
    "print(f\"Коефіцієнт детермінації R2 = {r2_score(Y, y_predicted)}\")"
   ]
  },
  {
   "cell_type": "code",
   "execution_count": 29,
   "id": "46feceb2-e2ec-4d61-bc39-ffca60a68a0d",
   "metadata": {},
   "outputs": [],
   "source": [
    "df['Y_pred'] = beta_hat['const'] + beta_hat['X1'] * df['X1'] + beta_hat['X2'] * df['X2'] + beta_hat['X3'] * df['X3'] + beta_hat['X4'] * df['X4']"
   ]
  },
  {
   "cell_type": "code",
   "execution_count": 33,
   "id": "cb0b1c1c-1b60-4a64-9154-b44714391861",
   "metadata": {},
   "outputs": [],
   "source": [
    "df['Error (Y - Y_pred)'] = (np.abs(df['Y'] - df['Y_pred']))"
   ]
  },
  {
   "cell_type": "code",
   "execution_count": 34,
   "id": "b9a0b390-af1e-40df-bfe8-325629967ee2",
   "metadata": {},
   "outputs": [
    {
     "data": {
      "text/html": [
       "<div>\n",
       "<style scoped>\n",
       "    .dataframe tbody tr th:only-of-type {\n",
       "        vertical-align: middle;\n",
       "    }\n",
       "\n",
       "    .dataframe tbody tr th {\n",
       "        vertical-align: top;\n",
       "    }\n",
       "\n",
       "    .dataframe thead th {\n",
       "        text-align: right;\n",
       "    }\n",
       "</style>\n",
       "<table border=\"1\" class=\"dataframe\">\n",
       "  <thead>\n",
       "    <tr style=\"text-align: right;\">\n",
       "      <th></th>\n",
       "      <th>Y</th>\n",
       "      <th>X1</th>\n",
       "      <th>X2</th>\n",
       "      <th>X3</th>\n",
       "      <th>X4</th>\n",
       "      <th>Y_pred</th>\n",
       "      <th>Error (Y - Y_pred)</th>\n",
       "    </tr>\n",
       "  </thead>\n",
       "  <tbody>\n",
       "    <tr>\n",
       "      <th>0</th>\n",
       "      <td>14.85</td>\n",
       "      <td>60</td>\n",
       "      <td>30</td>\n",
       "      <td>0.15</td>\n",
       "      <td>5.0</td>\n",
       "      <td>14.858658</td>\n",
       "      <td>0.008658</td>\n",
       "    </tr>\n",
       "    <tr>\n",
       "      <th>1</th>\n",
       "      <td>11.94</td>\n",
       "      <td>48</td>\n",
       "      <td>19</td>\n",
       "      <td>0.02</td>\n",
       "      <td>3.1</td>\n",
       "      <td>11.938721</td>\n",
       "      <td>0.001279</td>\n",
       "    </tr>\n",
       "    <tr>\n",
       "      <th>2</th>\n",
       "      <td>8.03</td>\n",
       "      <td>39</td>\n",
       "      <td>8</td>\n",
       "      <td>0.14</td>\n",
       "      <td>4.7</td>\n",
       "      <td>8.044236</td>\n",
       "      <td>0.014236</td>\n",
       "    </tr>\n",
       "    <tr>\n",
       "      <th>3</th>\n",
       "      <td>7.11</td>\n",
       "      <td>28</td>\n",
       "      <td>18</td>\n",
       "      <td>0.11</td>\n",
       "      <td>2.5</td>\n",
       "      <td>7.108718</td>\n",
       "      <td>0.001282</td>\n",
       "    </tr>\n",
       "    <tr>\n",
       "      <th>4</th>\n",
       "      <td>9.50</td>\n",
       "      <td>45</td>\n",
       "      <td>9</td>\n",
       "      <td>0.12</td>\n",
       "      <td>4.9</td>\n",
       "      <td>9.514291</td>\n",
       "      <td>0.014291</td>\n",
       "    </tr>\n",
       "    <tr>\n",
       "      <th>5</th>\n",
       "      <td>9.40</td>\n",
       "      <td>37</td>\n",
       "      <td>23</td>\n",
       "      <td>0.10</td>\n",
       "      <td>2.6</td>\n",
       "      <td>9.403944</td>\n",
       "      <td>0.003944</td>\n",
       "    </tr>\n",
       "    <tr>\n",
       "      <th>6</th>\n",
       "      <td>11.60</td>\n",
       "      <td>58</td>\n",
       "      <td>15</td>\n",
       "      <td>0.13</td>\n",
       "      <td>4.6</td>\n",
       "      <td>11.640870</td>\n",
       "      <td>0.040870</td>\n",
       "    </tr>\n",
       "    <tr>\n",
       "      <th>7</th>\n",
       "      <td>8.14</td>\n",
       "      <td>27</td>\n",
       "      <td>17</td>\n",
       "      <td>0.09</td>\n",
       "      <td>3.4</td>\n",
       "      <td>8.131378</td>\n",
       "      <td>0.008622</td>\n",
       "    </tr>\n",
       "    <tr>\n",
       "      <th>8</th>\n",
       "      <td>15.62</td>\n",
       "      <td>58</td>\n",
       "      <td>28</td>\n",
       "      <td>0.07</td>\n",
       "      <td>4.8</td>\n",
       "      <td>15.615225</td>\n",
       "      <td>0.004775</td>\n",
       "    </tr>\n",
       "    <tr>\n",
       "      <th>9</th>\n",
       "      <td>11.12</td>\n",
       "      <td>47</td>\n",
       "      <td>16</td>\n",
       "      <td>0.12</td>\n",
       "      <td>4.9</td>\n",
       "      <td>11.125212</td>\n",
       "      <td>0.005212</td>\n",
       "    </tr>\n",
       "    <tr>\n",
       "      <th>10</th>\n",
       "      <td>7.34</td>\n",
       "      <td>38</td>\n",
       "      <td>7</td>\n",
       "      <td>0.08</td>\n",
       "      <td>3.2</td>\n",
       "      <td>7.362004</td>\n",
       "      <td>0.022004</td>\n",
       "    </tr>\n",
       "    <tr>\n",
       "      <th>11</th>\n",
       "      <td>10.58</td>\n",
       "      <td>44</td>\n",
       "      <td>15</td>\n",
       "      <td>0.11</td>\n",
       "      <td>4.7</td>\n",
       "      <td>10.582949</td>\n",
       "      <td>0.002949</td>\n",
       "    </tr>\n",
       "    <tr>\n",
       "      <th>12</th>\n",
       "      <td>7.37</td>\n",
       "      <td>23</td>\n",
       "      <td>25</td>\n",
       "      <td>0.15</td>\n",
       "      <td>2.7</td>\n",
       "      <td>7.356811</td>\n",
       "      <td>0.013189</td>\n",
       "    </tr>\n",
       "    <tr>\n",
       "      <th>13</th>\n",
       "      <td>10.63</td>\n",
       "      <td>57</td>\n",
       "      <td>8</td>\n",
       "      <td>0.13</td>\n",
       "      <td>5.0</td>\n",
       "      <td>10.557368</td>\n",
       "      <td>0.072632</td>\n",
       "    </tr>\n",
       "    <tr>\n",
       "      <th>14</th>\n",
       "      <td>10.63</td>\n",
       "      <td>38</td>\n",
       "      <td>24</td>\n",
       "      <td>0.07</td>\n",
       "      <td>2.9</td>\n",
       "      <td>10.619616</td>\n",
       "      <td>0.010384</td>\n",
       "    </tr>\n",
       "  </tbody>\n",
       "</table>\n",
       "</div>"
      ],
      "text/plain": [
       "        Y  X1  X2    X3   X4     Y_pred  Error (Y - Y_pred)\n",
       "0   14.85  60  30  0.15  5.0  14.858658            0.008658\n",
       "1   11.94  48  19  0.02  3.1  11.938721            0.001279\n",
       "2    8.03  39   8  0.14  4.7   8.044236            0.014236\n",
       "3    7.11  28  18  0.11  2.5   7.108718            0.001282\n",
       "4    9.50  45   9  0.12  4.9   9.514291            0.014291\n",
       "5    9.40  37  23  0.10  2.6   9.403944            0.003944\n",
       "6   11.60  58  15  0.13  4.6  11.640870            0.040870\n",
       "7    8.14  27  17  0.09  3.4   8.131378            0.008622\n",
       "8   15.62  58  28  0.07  4.8  15.615225            0.004775\n",
       "9   11.12  47  16  0.12  4.9  11.125212            0.005212\n",
       "10   7.34  38   7  0.08  3.2   7.362004            0.022004\n",
       "11  10.58  44  15  0.11  4.7  10.582949            0.002949\n",
       "12   7.37  23  25  0.15  2.7   7.356811            0.013189\n",
       "13  10.63  57   8  0.13  5.0  10.557368            0.072632\n",
       "14  10.63  38  24  0.07  2.9  10.619616            0.010384"
      ]
     },
     "execution_count": 34,
     "metadata": {},
     "output_type": "execute_result"
    }
   ],
   "source": [
    "df"
   ]
  },
  {
   "cell_type": "code",
   "execution_count": null,
   "id": "5627461b-5475-48ff-8a76-e845c1630c88",
   "metadata": {},
   "outputs": [],
   "source": []
  }
 ],
 "metadata": {
  "kernelspec": {
   "display_name": "Python 3 (ipykernel)",
   "language": "python",
   "name": "python3"
  },
  "language_info": {
   "codemirror_mode": {
    "name": "ipython",
    "version": 3
   },
   "file_extension": ".py",
   "mimetype": "text/x-python",
   "name": "python",
   "nbconvert_exporter": "python",
   "pygments_lexer": "ipython3",
   "version": "3.12.7"
  }
 },
 "nbformat": 4,
 "nbformat_minor": 5
}
