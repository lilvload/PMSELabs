{
 "cells": [
  {
   "cell_type": "markdown",
   "id": "7bb482d1-8eb4-423a-bff9-3efbbfcaf1eb",
   "metadata": {},
   "source": [
    "**Імпорт бібліотек**"
   ]
  },
  {
   "cell_type": "code",
   "execution_count": 1,
   "id": "b2778459-21ee-4277-81e3-149d814dd8e1",
   "metadata": {},
   "outputs": [],
   "source": [
    "import pandas as pd\n",
    "import matplotlib.pyplot as plt\n",
    "import scipy.stats as sp"
   ]
  },
  {
   "cell_type": "markdown",
   "id": "ad053447-da58-4443-a1c0-8b2d50e20082",
   "metadata": {},
   "source": [
    "**Рівень значущості для статистичних критеріїв**"
   ]
  },
  {
   "cell_type": "code",
   "execution_count": 2,
   "id": "2e4aff31-cc7c-4cd3-9f10-d5d27fc3ac60",
   "metadata": {},
   "outputs": [],
   "source": [
    "ALPHA = 0.05"
   ]
  },
  {
   "cell_type": "markdown",
   "id": "8c62ed04-48fe-48f9-b11e-39d78df897ee",
   "metadata": {},
   "source": [
    "**Перевірка нормальності розподілу за критерієм Пірсона** \n",
    "\n",
    "*Розраховує теоретичні ймовірності, порівнює їх із емпіричними частотами та обчислює χ2*\n",
    "\n",
    "*Повертає таблиці і результат перевірки гіпотези*"
   ]
  },
  {
   "cell_type": "code",
   "execution_count": 3,
   "id": "011e9d02-8f79-443a-9021-45f5cb5b61d9",
   "metadata": {},
   "outputs": [],
   "source": [
    "def normality_check_pearson(data):\n",
    "    borders = data[\"borders\"]\n",
    "    frequencies = data[\"frequencies\"]\n",
    "    dist_len = sum(frequencies)\n",
    "    mean = calc_mean(data)\n",
    "    std_dev = calc_std_dev(data)\n",
    "    prob_table = []\n",
    "    chi2_table = []\n",
    "    total_theor_prob = 0\n",
    "    total_chi2 = 0\n",
    "\n",
    "    for idx in range(len(frequencies)):\n",
    "        left = float(\"-inf\") if idx == 0 else borders[idx]\n",
    "        right = float(\"inf\") if idx == len(frequencies) - 1 else borders[idx + 1]\n",
    "\n",
    "        z_l = (left - mean) / std_dev\n",
    "        z_r = (right - mean) / std_dev\n",
    "        phi_l = laplace(z_l)\n",
    "        phi_r = laplace(z_r)\n",
    "        prob = phi_r - phi_l\n",
    "        prob_table.append([left, right, z_l, z_r, phi_l, phi_r, prob])\n",
    "        total_theor_prob += prob\n",
    "\n",
    "    prob_table.append([\"\", \"\", \"\", \"\", \"\", \"\", total_theor_prob])\n",
    "\n",
    "    for idx, freq in enumerate(frequencies):\n",
    "        theor_freq = dist_len * prob_table[idx][6]\n",
    "        diff = freq - theor_freq\n",
    "        chi2_contrib = (diff ** 2) / theor_freq\n",
    "        total_chi2 += chi2_contrib\n",
    "\n",
    "        chi2_table.append([freq, theor_freq, diff, diff ** 2, chi2_contrib])\n",
    "\n",
    "    chi2_table.append([dist_len, \"\", \"\", \"\", total_chi2])\n",
    "    crit = chi2_crit(ALPHA, len(frequencies) - 1 - 2)\n",
    "\n",
    "    return {\n",
    "    \"prob_table\": prob_table,\n",
    "    \"chi2_table\": chi2_table,\n",
    "    \"chi2_emp\": total_chi2,\n",
    "    \"chi2_crit\": crit,\n",
    "    \"is_normal\": total_chi2 < crit\n",
    "    }"
   ]
  },
  {
   "cell_type": "markdown",
   "id": "dad5eb50-40ba-48ac-8988-de5fbb8c71c9",
   "metadata": {},
   "source": [
    "**Перевірка нормальності розподілу за критерієм Колмогорова**\n",
    "\n",
    "*Розраховує емпіричну та теоретичну функції розподілу, порівнює їх відхилення*\n",
    "\n",
    "*Повертає таблицю і значення λ, D та критичні значення*"
   ]
  },
  {
   "cell_type": "code",
   "execution_count": 4,
   "id": "4dcd93c0-5c63-4d67-97df-3303c7a4d73a",
   "metadata": {},
   "outputs": [],
   "source": [
    "def normality_check_kolmogorov(data):\n",
    "    borders = data[\"borders\"]\n",
    "    freqs = data[\"frequencies\"]\n",
    "    total = sum(freqs)\n",
    "    mean = calc_mean(data)\n",
    "    std = calc_std_dev(data)\n",
    "\n",
    "    extended = {\n",
    "        \"borders\": [float(\"-inf\")] + borders + [float(\"inf\")],\n",
    "        \"frequencies\": [0] + freqs + [0]\n",
    "    }\n",
    "\n",
    "    borders = extended[\"borders\"]\n",
    "    freqs = extended[\"frequencies\"]\n",
    "    count_table = []\n",
    "    accum_freq = 0\n",
    "    max_diff = 0\n",
    "\n",
    "    for i in range(1, len(freqs) - 1):\n",
    "        accum_freq += freqs[i] / total\n",
    "        z = (borders[i + 1] - mean) / std\n",
    "        theor = sp.norm.cdf(z)\n",
    "        diff = abs(theor - accum_freq)\n",
    "        max_diff = max(max_diff, diff)\n",
    "\n",
    "        count_table.append([\n",
    "            borders[i], borders[i + 1], freqs[i], accum_freq,\n",
    "            z, theor, diff\n",
    "        ])\n",
    "\n",
    "    lam_emp = max_diff * (total ** 0.5)\n",
    "    return {\n",
    "    \"kolm_table\": count_table,\n",
    "    \"max_diff\": max_diff,\n",
    "    \"lambda_emp\": lam_emp,\n",
    "    \"lambda_crit\": lambda_crit(ALPHA),\n",
    "    \"kolmog_crit\": kolmogorov_crit(ALPHA, total),\n",
    "    \"beta_crit\": prob_from_lambda(lam_emp)\n",
    "    }"
   ]
  },
  {
   "cell_type": "code",
   "execution_count": null,
   "id": "19550089-0385-4f95-834f-5f03a233e975",
   "metadata": {},
   "outputs": [],
   "source": []
  }
 ],
 "metadata": {
  "kernelspec": {
   "display_name": "Python 3 (ipykernel)",
   "language": "python",
   "name": "python3"
  },
  "language_info": {
   "codemirror_mode": {
    "name": "ipython",
    "version": 3
   },
   "file_extension": ".py",
   "mimetype": "text/x-python",
   "name": "python",
   "nbconvert_exporter": "python",
   "pygments_lexer": "ipython3",
   "version": "3.12.7"
  }
 },
 "nbformat": 4,
 "nbformat_minor": 5
}
